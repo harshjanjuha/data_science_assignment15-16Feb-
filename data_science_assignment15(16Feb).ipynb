{
 "cells": [
  {
   "cell_type": "markdown",
   "id": "7949eb99",
   "metadata": {},
   "source": [
    "# Assignment 15"
   ]
  },
  {
   "cell_type": "markdown",
   "id": "a10199f4",
   "metadata": {},
   "source": [
    "Q1. What is a database? Differentiate between SQL and NoSQL databases.\n",
    "\n",
    "Ans. A database is a collection of data that is organized and stored in a structured manner, such that it can be easily accessed, managed, and updated. It provides a way to store and manage data, while also allowing users to query, manipulate, and retrieve that data.\n",
    "\n",
    "SQL (Structured Query Language) and NoSQL (Not Only SQL) are two types of databases that differ in their structure, design, and functionality. Here are the key differences between the two:\n",
    "\n",
    "Data structure: SQL databases are relational databases that use tables to store data, while NoSQL databases are non-relational databases that can use a variety of data models, such as key-value pairs, document-oriented, graph-based, or column-family.\n",
    "\n",
    "Schema: SQL databases have a predefined schema that specifies the structure of the data, while NoSQL databases are schema-less, meaning that they can accommodate any type of data without a predefined schema.\n",
    "\n",
    "Scalability: SQL databases are vertically scalable, meaning that they require more resources to handle more data, while NoSQL databases are horizontally scalable, meaning that they can handle more data by adding more servers or nodes to the database.\n",
    "\n",
    "Query language: SQL databases use the SQL query language to manipulate and retrieve data, while NoSQL databases use different query languages, depending on the data model used.\n",
    "\n",
    "Performance: SQL databases are optimized for transactions, meaning that they are better suited for handling structured data that requires a high degree of consistency, while NoSQL databases are optimized for scalability and performance, meaning that they can handle large amounts of unstructured or semi-structured data at high speeds."
   ]
  },
  {
   "cell_type": "markdown",
   "id": "de3100d0",
   "metadata": {},
   "source": [
    "Q2. What is DDL? Explain why CREATE, DROP, ALTER, and TRUNCATE are used with an example.\n",
    "\n",
    "Ans.DDL stands for Data Definition Language, which is a subset of SQL (Structured Query Language) that is used to define, modify, and delete database objects, such as tables, indexes, views, and constraints.\n",
    "\n",
    "Here are some examples of DDL commands and their usage:\n",
    "\n",
    "CREATE: This command is used to create a new database object, such as a table, view, index, or stored procedure. For example, to create a new table called \"customers\" with three columns (id, name, and email), you can use the following SQL command:\n",
    "\n",
    "CREATE TABLE customers (\n",
    "    id INT PRIMARY KEY,\n",
    "    name VARCHAR(50) NOT NULL,\n",
    "    email VARCHAR(100) NOT NULL\n",
    ");\n",
    "\n",
    "\n",
    "DROP: This command is used to delete an existing database object, such as a table, view, index, or stored procedure. For example, to delete the \"customers\" table that was created in the previous example, you can use the following SQL command:\n",
    "\n",
    "DROP TABLE customers;\n",
    "\n",
    "\n",
    "ALTER: This command is used to modify the structure of an existing database object, such as adding or dropping columns from a table, changing the data type of a column, or renaming an object. For example, to add a new column called \"phone\" to the \"customers\" table, you can use the following SQL command:\n",
    "\n",
    "ALTER TABLE customers ADD COLUMN phone VARCHAR(20);\n",
    "\n",
    "\n",
    "TRUNCATE: This command is used to delete all the data from a table, while preserving the structure of the table. For example, to delete all the data from the \"customers\" table, you can use the following SQL command:\n",
    "\n",
    "TRUNCATE TABLE customers;\n"
   ]
  },
  {
   "cell_type": "markdown",
   "id": "603755d8",
   "metadata": {},
   "source": [
    "Q3. What is DML? Explain INSERT, UPDATE, and DELETE with an example.\n",
    "\n",
    "Ans. DML stands for Data Manipulation Language, which is a subset of SQL (Structured Query Language) that is used to manipulate data in a database. DML commands include INSERT, UPDATE, and DELETE, which are used to add, modify, and delete data from tables, respectively.\n",
    "\n",
    "Here are some examples of DML commands and their usage:\n",
    "\n",
    "INSERT: This command is used to add new rows of data to a table. For example, to add a new customer with id=1, name='John Doe', and email='john@example.com' to the \"customers\" table, you can use the following SQL command:\n",
    "\n",
    "INSERT INTO customers (id, name, email) VALUES (1, 'John Doe', 'john@example.com');\n",
    "\n",
    "UPDATE: This command is used to modify existing rows of data in a table. For example, to update the email of the customer with id=1 to 'johndoe@example.com', you can use the following SQL command:\n",
    "\n",
    "UPDATE customers SET email='johndoe@example.com' WHERE id=1;\n",
    "\n",
    "DELETE: This command is used to delete existing rows of data from a table. For example, to delete the customer with id=1 from the \"customers\" table, you can use the following SQL command:\n",
    "\n",
    "DELETE FROM customers WHERE id=1;"
   ]
  },
  {
   "cell_type": "markdown",
   "id": "05273d7c",
   "metadata": {},
   "source": [
    "Q4. What is DQL? Explain SELECT with an example.\n",
    "\n",
    "Ans. DQL stands for Data Query Language, which is a subset of SQL (Structured Query Language) that is used to retrieve data from a database. DQL commands include SELECT, which is used to query a database and retrieve specific data from one or more tables.\n",
    "\n",
    "Here is an example of a SELECT statement:\n",
    "\n",
    "Suppose we have a table named \"customers\" with the following columns: id, name, email, phone, and city. The following SQL statement retrieves all the rows and columns from the \"customers\" table:\n",
    "\n",
    "SELECT * FROM customers;\n",
    "\n",
    "This statement will return all the data in the \"customers\" table, including all the columns and rows.\n",
    "\n",
    "We can also use the SELECT statement to retrieve specific columns and rows from a table by specifying the column names and using various conditions. For example, the following SQL statement retrieves the name and email columns from the \"customers\" table where the city is 'New York':\n",
    "\n",
    "SELECT name, email FROM customers WHERE city = 'New York';\n",
    "\n",
    "This statement will return the name and email columns of all the customers who live in New York.\n",
    "\n",
    "We can also use the SELECT statement with various functions, such as COUNT, SUM, AVG, and MAX, to retrieve aggregate data from a table. For example, the following SQL statement retrieves the total number of customers in the \"customers\" table:\n",
    "\n",
    "SELECT COUNT(*) FROM customers;"
   ]
  },
  {
   "cell_type": "markdown",
   "id": "4af5312d",
   "metadata": {},
   "source": [
    "Q5. Explain Primary Key and Foreign Key.\n",
    "\n",
    "Ans.Primary Key:\n",
    "\n",
    "A primary key is a column or set of columns in a database table that uniquely identifies each row or record in that table. It is a unique identifier for a row in a table, and it ensures that each row in the table is uniquely identified. Primary keys are important because they allow us to identify and access specific rows in a table quickly and efficiently.\n",
    "\n",
    "Primary keys can be created when a table is created, or they can be added to an existing table. Primary keys can be one or more columns in a table, and they must contain unique values. For example, in a table of customers, the \"id\" column could be the primary key, as each customer has a unique ID number.\n",
    "\n",
    "Foreign Key:\n",
    "\n",
    "A foreign key is a column or set of columns in a database table that is used to establish a link between two tables. It is a column that refers to the primary key column in another table. The foreign key column in one table refers to the primary key column in another table, creating a relationship between the two tables.\n",
    "\n",
    "Foreign keys are used to maintain the referential integrity of data in a database, ensuring that data is consistent and accurate. For example, in a database with two tables, \"customers\" and \"orders\", the \"customer_id\" column in the \"orders\" table could be a foreign key that references the \"id\" column in the \"customers\" table. This would allow us to link orders to specific customers and maintain the consistency of the data."
   ]
  },
  {
   "cell_type": "code",
   "execution_count": 4,
   "id": "1b4093aa",
   "metadata": {},
   "outputs": [
    {
     "ename": "SyntaxError",
     "evalue": "invalid syntax (3153169444.py, line 1)",
     "output_type": "error",
     "traceback": [
      "\u001b[1;36m  Input \u001b[1;32mIn [4]\u001b[1;36m\u001b[0m\n\u001b[1;33m    Q6. Write a python code to connect MySQL to python. Explain the cursor() and execute() method.\u001b[0m\n\u001b[1;37m              ^\u001b[0m\n\u001b[1;31mSyntaxError\u001b[0m\u001b[1;31m:\u001b[0m invalid syntax\n"
     ]
    }
   ],
   "source": [
    "Q6. Write a python code to connect MySQL to python. Explain the cursor() and execute() method.\n",
    "\n",
    "Ans.\n",
    "import mysql.connector\n",
    "\n",
    "# Connect to the MySQL database\n",
    "mydb = mysql.connector.connect(\n",
    "  host=\"localhost\",\n",
    "  user=\"username\",\n",
    "  password=\"password\",\n",
    "  database=\"databasename\"\n",
    ")\n",
    "\n",
    "# Create a cursor object\n",
    "mycursor = mydb.cursor()\n",
    "\n",
    "# Execute a query\n",
    "mycursor.execute(\"SELECT * FROM customers\")\n",
    "\n",
    "# Fetch the results\n",
    "results = mycursor.fetchall()\n",
    "\n",
    "# Print the results\n",
    "for row in results:\n",
    "  print(row)\n"
   ]
  },
  {
   "cell_type": "markdown",
   "id": "96d4b2a0",
   "metadata": {},
   "source": [
    "Q7. Give the order of execution of SQL clauses in an SQL query.\n",
    "\n",
    "Ans. An SQL query consists of several clauses that are executed in a specific order to produce the desired results. The order of execution of SQL clauses in a query is as follows:\n",
    "\n",
    "SELECT: This clause is used to select columns from one or more tables. It is the first clause executed in an SQL query.\n",
    "\n",
    "FROM: This clause is used to specify the table or tables from which to select data. It is executed after the SELECT clause.\n",
    "\n",
    "WHERE: This clause is used to filter data based on specified conditions. It is executed after the FROM clause.\n",
    "\n",
    "GROUP BY: This clause is used to group data based on specified columns. It is executed after the WHERE clause.\n",
    "\n",
    "HAVING: This clause is used to filter data based on conditions that apply to groups of rows. It is executed after the GROUP BY clause.\n",
    "\n",
    "ORDER BY: This clause is used to sort the data based on specified columns. It is executed after the HAVING clause.\n",
    "\n",
    "LIMIT: This clause is used to limit the number of rows returned by the query. It is executed last, after all the other clauses have been executed.\n",
    "\n",
    "It's important to note that not all of these clauses are required in every SQL query. The order of execution may also change depending on the specific query being executed.\n",
    "\n",
    "\n",
    "\n",
    "\n"
   ]
  },
  {
   "cell_type": "code",
   "execution_count": null,
   "id": "1c681b58",
   "metadata": {},
   "outputs": [],
   "source": []
  }
 ],
 "metadata": {
  "kernelspec": {
   "display_name": "Python 3 (ipykernel)",
   "language": "python",
   "name": "python3"
  },
  "language_info": {
   "codemirror_mode": {
    "name": "ipython",
    "version": 3
   },
   "file_extension": ".py",
   "mimetype": "text/x-python",
   "name": "python",
   "nbconvert_exporter": "python",
   "pygments_lexer": "ipython3",
   "version": "3.9.12"
  }
 },
 "nbformat": 4,
 "nbformat_minor": 5
}
